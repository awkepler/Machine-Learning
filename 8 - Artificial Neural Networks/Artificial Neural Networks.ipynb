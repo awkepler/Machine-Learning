{
 "cells": [
  {
   "cell_type": "code",
   "execution_count": 1,
   "metadata": {},
   "outputs": [],
   "source": [
    "# Artificial Neural Network\n",
    "\n",
    "# Installing Theano\n",
    "# pip install --upgrade --no-deps git+git://github.com/Theano/Theano.git\n",
    "\n",
    "# Installing Tensorflow\n",
    "# Install Tensorflow from the website: https://www.tensorflow.org/versions/r0.12/get_started/os_setup.html\n",
    "\n",
    "# Installing Keras\n",
    "# pip install --upgrade keras\n",
    "\n",
    "# Part 1 - Data Preprocessing"
   ]
  },
  {
   "cell_type": "code",
   "execution_count": 2,
   "metadata": {},
   "outputs": [],
   "source": [
    "# Importing the libraries\n",
    "import numpy as np\n",
    "import matplotlib.pyplot as plt\n",
    "import pandas as pd"
   ]
  },
  {
   "cell_type": "code",
   "execution_count": 3,
   "metadata": {},
   "outputs": [],
   "source": [
    "# Importing the dataset\n",
    "ds = pd.read_csv('Churn_Modelling.csv')\n",
    "X = ds.iloc[:, 3:13].values\n",
    "y = ds.iloc[:, 13].values"
   ]
  },
  {
   "cell_type": "code",
   "execution_count": 4,
   "metadata": {},
   "outputs": [
    {
     "data": {
      "text/html": [
       "<div>\n",
       "<style scoped>\n",
       "    .dataframe tbody tr th:only-of-type {\n",
       "        vertical-align: middle;\n",
       "    }\n",
       "\n",
       "    .dataframe tbody tr th {\n",
       "        vertical-align: top;\n",
       "    }\n",
       "\n",
       "    .dataframe thead th {\n",
       "        text-align: right;\n",
       "    }\n",
       "</style>\n",
       "<table border=\"1\" class=\"dataframe\">\n",
       "  <thead>\n",
       "    <tr style=\"text-align: right;\">\n",
       "      <th></th>\n",
       "      <th>RowNumber</th>\n",
       "      <th>CustomerId</th>\n",
       "      <th>Surname</th>\n",
       "      <th>CreditScore</th>\n",
       "      <th>Geography</th>\n",
       "      <th>Gender</th>\n",
       "      <th>Age</th>\n",
       "      <th>Tenure</th>\n",
       "      <th>Balance</th>\n",
       "      <th>NumOfProducts</th>\n",
       "      <th>HasCrCard</th>\n",
       "      <th>IsActiveMember</th>\n",
       "      <th>EstimatedSalary</th>\n",
       "      <th>Exited</th>\n",
       "    </tr>\n",
       "  </thead>\n",
       "  <tbody>\n",
       "    <tr>\n",
       "      <th>0</th>\n",
       "      <td>1</td>\n",
       "      <td>15634602</td>\n",
       "      <td>Hargrave</td>\n",
       "      <td>619</td>\n",
       "      <td>France</td>\n",
       "      <td>Female</td>\n",
       "      <td>42</td>\n",
       "      <td>2</td>\n",
       "      <td>0.00</td>\n",
       "      <td>1</td>\n",
       "      <td>1</td>\n",
       "      <td>1</td>\n",
       "      <td>101348.88</td>\n",
       "      <td>1</td>\n",
       "    </tr>\n",
       "    <tr>\n",
       "      <th>1</th>\n",
       "      <td>2</td>\n",
       "      <td>15647311</td>\n",
       "      <td>Hill</td>\n",
       "      <td>608</td>\n",
       "      <td>Spain</td>\n",
       "      <td>Female</td>\n",
       "      <td>41</td>\n",
       "      <td>1</td>\n",
       "      <td>83807.86</td>\n",
       "      <td>1</td>\n",
       "      <td>0</td>\n",
       "      <td>1</td>\n",
       "      <td>112542.58</td>\n",
       "      <td>0</td>\n",
       "    </tr>\n",
       "    <tr>\n",
       "      <th>2</th>\n",
       "      <td>3</td>\n",
       "      <td>15619304</td>\n",
       "      <td>Onio</td>\n",
       "      <td>502</td>\n",
       "      <td>France</td>\n",
       "      <td>Female</td>\n",
       "      <td>42</td>\n",
       "      <td>8</td>\n",
       "      <td>159660.80</td>\n",
       "      <td>3</td>\n",
       "      <td>1</td>\n",
       "      <td>0</td>\n",
       "      <td>113931.57</td>\n",
       "      <td>1</td>\n",
       "    </tr>\n",
       "    <tr>\n",
       "      <th>3</th>\n",
       "      <td>4</td>\n",
       "      <td>15701354</td>\n",
       "      <td>Boni</td>\n",
       "      <td>699</td>\n",
       "      <td>France</td>\n",
       "      <td>Female</td>\n",
       "      <td>39</td>\n",
       "      <td>1</td>\n",
       "      <td>0.00</td>\n",
       "      <td>2</td>\n",
       "      <td>0</td>\n",
       "      <td>0</td>\n",
       "      <td>93826.63</td>\n",
       "      <td>0</td>\n",
       "    </tr>\n",
       "    <tr>\n",
       "      <th>4</th>\n",
       "      <td>5</td>\n",
       "      <td>15737888</td>\n",
       "      <td>Mitchell</td>\n",
       "      <td>850</td>\n",
       "      <td>Spain</td>\n",
       "      <td>Female</td>\n",
       "      <td>43</td>\n",
       "      <td>2</td>\n",
       "      <td>125510.82</td>\n",
       "      <td>1</td>\n",
       "      <td>1</td>\n",
       "      <td>1</td>\n",
       "      <td>79084.10</td>\n",
       "      <td>0</td>\n",
       "    </tr>\n",
       "  </tbody>\n",
       "</table>\n",
       "</div>"
      ],
      "text/plain": [
       "   RowNumber  CustomerId   Surname  CreditScore Geography  Gender  Age  \\\n",
       "0          1    15634602  Hargrave          619    France  Female   42   \n",
       "1          2    15647311      Hill          608     Spain  Female   41   \n",
       "2          3    15619304      Onio          502    France  Female   42   \n",
       "3          4    15701354      Boni          699    France  Female   39   \n",
       "4          5    15737888  Mitchell          850     Spain  Female   43   \n",
       "\n",
       "   Tenure    Balance  NumOfProducts  HasCrCard  IsActiveMember  \\\n",
       "0       2       0.00              1          1               1   \n",
       "1       1   83807.86              1          0               1   \n",
       "2       8  159660.80              3          1               0   \n",
       "3       1       0.00              2          0               0   \n",
       "4       2  125510.82              1          1               1   \n",
       "\n",
       "   EstimatedSalary  Exited  \n",
       "0        101348.88       1  \n",
       "1        112542.58       0  \n",
       "2        113931.57       1  \n",
       "3         93826.63       0  \n",
       "4         79084.10       0  "
      ]
     },
     "execution_count": 4,
     "metadata": {},
     "output_type": "execute_result"
    }
   ],
   "source": [
    "ds.head()"
   ]
  },
  {
   "cell_type": "code",
   "execution_count": 5,
   "metadata": {},
   "outputs": [],
   "source": [
    "# Encoding categorical data\n",
    "from sklearn.preprocessing import LabelEncoder, OneHotEncoder\n",
    "labelencoder_X_1 = LabelEncoder()\n",
    "X[:, 1] = labelencoder_X_1.fit_transform(X[:, 1])\n",
    "labelencoder_X_2 = LabelEncoder()\n",
    "X[:, 2] = labelencoder_X_2.fit_transform(X[:, 2])\n",
    "onehotencoder = OneHotEncoder(categorical_features = [1])\n",
    "X = onehotencoder.fit_transform(X).toarray()\n",
    "X = X[:, 1:]"
   ]
  },
  {
   "cell_type": "code",
   "execution_count": 6,
   "metadata": {},
   "outputs": [],
   "source": [
    "# Splitting the dataset into the Training set and Test set\n",
    "from sklearn.model_selection import train_test_split\n",
    "X_train, X_test, y_train, y_test = train_test_split(X, y, test_size = 0.2, random_state = 0)"
   ]
  },
  {
   "cell_type": "code",
   "execution_count": 7,
   "metadata": {},
   "outputs": [],
   "source": [
    "# Feature Scaling\n",
    "from sklearn.preprocessing import StandardScaler\n",
    "sc = StandardScaler()\n",
    "X_train = sc.fit_transform(X_train)\n",
    "X_test = sc.transform(X_test)"
   ]
  },
  {
   "cell_type": "code",
   "execution_count": 10,
   "metadata": {},
   "outputs": [
    {
     "name": "stderr",
     "output_type": "stream",
     "text": [
      "Using TensorFlow backend.\n"
     ]
    }
   ],
   "source": [
    "# Part 2 - Now let's make the ANN!\n",
    "\n",
    "# Importing the Keras libraries and packages\n",
    "import keras\n",
    "from keras.models import Sequential\n",
    "from keras.layers import Dense"
   ]
  },
  {
   "cell_type": "code",
   "execution_count": 11,
   "metadata": {},
   "outputs": [],
   "source": [
    "# Initialising the ANN\n",
    "classifier = Sequential()"
   ]
  },
  {
   "cell_type": "code",
   "execution_count": 12,
   "metadata": {},
   "outputs": [
    {
     "name": "stdout",
     "output_type": "stream",
     "text": [
      "WARNING:tensorflow:From /anaconda3/lib/python3.7/site-packages/tensorflow/python/framework/op_def_library.py:263: colocate_with (from tensorflow.python.framework.ops) is deprecated and will be removed in a future version.\n",
      "Instructions for updating:\n",
      "Colocations handled automatically by placer.\n"
     ]
    },
    {
     "name": "stderr",
     "output_type": "stream",
     "text": [
      "/anaconda3/lib/python3.7/site-packages/ipykernel_launcher.py:2: UserWarning: Update your `Dense` call to the Keras 2 API: `Dense(activation=\"relu\", input_dim=11, units=6, kernel_initializer=\"uniform\")`\n",
      "  \n"
     ]
    }
   ],
   "source": [
    "# Adding the input layer and the first hidden layer\n",
    "classifier.add(Dense(output_dim = 6, init = 'uniform', activation = 'relu', input_dim = 11))"
   ]
  },
  {
   "cell_type": "code",
   "execution_count": 13,
   "metadata": {},
   "outputs": [
    {
     "name": "stderr",
     "output_type": "stream",
     "text": [
      "/anaconda3/lib/python3.7/site-packages/ipykernel_launcher.py:2: UserWarning: Update your `Dense` call to the Keras 2 API: `Dense(activation=\"relu\", units=6, kernel_initializer=\"uniform\")`\n",
      "  \n"
     ]
    }
   ],
   "source": [
    "# Adding the second hidden layer\n",
    "classifier.add(Dense(output_dim = 6, init = 'uniform', activation = 'relu'))"
   ]
  },
  {
   "cell_type": "code",
   "execution_count": 14,
   "metadata": {},
   "outputs": [
    {
     "name": "stderr",
     "output_type": "stream",
     "text": [
      "/anaconda3/lib/python3.7/site-packages/ipykernel_launcher.py:2: UserWarning: Update your `Dense` call to the Keras 2 API: `Dense(activation=\"sigmoid\", units=1, kernel_initializer=\"uniform\")`\n",
      "  \n"
     ]
    }
   ],
   "source": [
    "# Adding the output layer\n",
    "classifier.add(Dense(output_dim = 1, init = 'uniform', activation = 'sigmoid'))"
   ]
  },
  {
   "cell_type": "code",
   "execution_count": 15,
   "metadata": {},
   "outputs": [],
   "source": [
    "# Compiling the ANN\n",
    "classifier.compile(optimizer = 'adam', loss = 'binary_crossentropy', metrics = ['accuracy'])"
   ]
  },
  {
   "cell_type": "code",
   "execution_count": 16,
   "metadata": {},
   "outputs": [
    {
     "name": "stdout",
     "output_type": "stream",
     "text": [
      "WARNING:tensorflow:From /anaconda3/lib/python3.7/site-packages/tensorflow/python/ops/math_ops.py:3066: to_int32 (from tensorflow.python.ops.math_ops) is deprecated and will be removed in a future version.\n",
      "Instructions for updating:\n",
      "Use tf.cast instead.\n"
     ]
    },
    {
     "name": "stderr",
     "output_type": "stream",
     "text": [
      "/anaconda3/lib/python3.7/site-packages/ipykernel_launcher.py:2: UserWarning: The `nb_epoch` argument in `fit` has been renamed `epochs`.\n",
      "  \n"
     ]
    },
    {
     "name": "stdout",
     "output_type": "stream",
     "text": [
      "Epoch 1/100\n",
      "8000/8000 [==============================] - 1s 126us/step - loss: 0.4861 - acc: 0.7955\n",
      "Epoch 2/100\n",
      "8000/8000 [==============================] - 1s 85us/step - loss: 0.4293 - acc: 0.7960\n",
      "Epoch 3/100\n",
      "8000/8000 [==============================] - 1s 82us/step - loss: 0.4239 - acc: 0.7960\n",
      "Epoch 4/100\n",
      "8000/8000 [==============================] - 1s 79us/step - loss: 0.4204 - acc: 0.8131\n",
      "Epoch 5/100\n",
      "8000/8000 [==============================] - 1s 78us/step - loss: 0.4180 - acc: 0.8230\n",
      "Epoch 6/100\n",
      "8000/8000 [==============================] - 1s 94us/step - loss: 0.4160 - acc: 0.8264\n",
      "Epoch 7/100\n",
      "8000/8000 [==============================] - 1s 79us/step - loss: 0.4148 - acc: 0.8271\n",
      "Epoch 8/100\n",
      "8000/8000 [==============================] - 1s 79us/step - loss: 0.4127 - acc: 0.8305\n",
      "Epoch 9/100\n",
      "8000/8000 [==============================] - 1s 79us/step - loss: 0.4116 - acc: 0.8329\n",
      "Epoch 10/100\n",
      "8000/8000 [==============================] - 1s 81us/step - loss: 0.4098 - acc: 0.8324\n",
      "Epoch 11/100\n",
      "8000/8000 [==============================] - 1s 80us/step - loss: 0.4092 - acc: 0.8331\n",
      "Epoch 12/100\n",
      "8000/8000 [==============================] - 1s 80us/step - loss: 0.4083 - acc: 0.8342\n",
      "Epoch 13/100\n",
      "8000/8000 [==============================] - 1s 79us/step - loss: 0.4074 - acc: 0.8335\n",
      "Epoch 14/100\n",
      "8000/8000 [==============================] - 1s 80us/step - loss: 0.4057 - acc: 0.8352\n",
      "Epoch 15/100\n",
      "8000/8000 [==============================] - 1s 81us/step - loss: 0.4036 - acc: 0.8344\n",
      "Epoch 16/100\n",
      "8000/8000 [==============================] - 1s 81us/step - loss: 0.4024 - acc: 0.8349\n",
      "Epoch 17/100\n",
      "8000/8000 [==============================] - 1s 81us/step - loss: 0.4009 - acc: 0.8339\n",
      "Epoch 18/100\n",
      "8000/8000 [==============================] - 1s 79us/step - loss: 0.3997 - acc: 0.8360\n",
      "Epoch 19/100\n",
      "8000/8000 [==============================] - 1s 93us/step - loss: 0.3998 - acc: 0.8356\n",
      "Epoch 20/100\n",
      "8000/8000 [==============================] - 1s 81us/step - loss: 0.3989 - acc: 0.8372\n",
      "Epoch 21/100\n",
      "8000/8000 [==============================] - 1s 80us/step - loss: 0.3984 - acc: 0.8366\n",
      "Epoch 22/100\n",
      "8000/8000 [==============================] - 1s 81us/step - loss: 0.3975 - acc: 0.8372\n",
      "Epoch 23/100\n",
      "8000/8000 [==============================] - 1s 81us/step - loss: 0.3972 - acc: 0.8370\n",
      "Epoch 24/100\n",
      "8000/8000 [==============================] - 1s 80us/step - loss: 0.3967 - acc: 0.8377\n",
      "Epoch 25/100\n",
      "8000/8000 [==============================] - 1s 81us/step - loss: 0.3965 - acc: 0.8364\n",
      "Epoch 26/100\n",
      "8000/8000 [==============================] - 1s 81us/step - loss: 0.3963 - acc: 0.8370\n",
      "Epoch 27/100\n",
      "8000/8000 [==============================] - 1s 80us/step - loss: 0.3956 - acc: 0.8380\n",
      "Epoch 28/100\n",
      "8000/8000 [==============================] - 1s 81us/step - loss: 0.3960 - acc: 0.8359\n",
      "Epoch 29/100\n",
      "8000/8000 [==============================] - 1s 80us/step - loss: 0.3952 - acc: 0.8375\n",
      "Epoch 30/100\n",
      "8000/8000 [==============================] - 1s 81us/step - loss: 0.3953 - acc: 0.8369\n",
      "Epoch 31/100\n",
      "8000/8000 [==============================] - 1s 80us/step - loss: 0.3949 - acc: 0.8371\n",
      "Epoch 32/100\n",
      "8000/8000 [==============================] - 1s 82us/step - loss: 0.3948 - acc: 0.8365\n",
      "Epoch 33/100\n",
      "8000/8000 [==============================] - 1s 80us/step - loss: 0.3942 - acc: 0.8357\n",
      "Epoch 34/100\n",
      "8000/8000 [==============================] - 1s 81us/step - loss: 0.3944 - acc: 0.8376\n",
      "Epoch 35/100\n",
      "8000/8000 [==============================] - 1s 81us/step - loss: 0.3941 - acc: 0.8367\n",
      "Epoch 36/100\n",
      "8000/8000 [==============================] - 1s 79us/step - loss: 0.3940 - acc: 0.8369\n",
      "Epoch 37/100\n",
      "8000/8000 [==============================] - 1s 82us/step - loss: 0.3943 - acc: 0.8367\n",
      "Epoch 38/100\n",
      "8000/8000 [==============================] - 1s 81us/step - loss: 0.3937 - acc: 0.8387\n",
      "Epoch 39/100\n",
      "8000/8000 [==============================] - 1s 82us/step - loss: 0.3935 - acc: 0.8379\n",
      "Epoch 40/100\n",
      "8000/8000 [==============================] - 1s 82us/step - loss: 0.3927 - acc: 0.8370\n",
      "Epoch 41/100\n",
      "8000/8000 [==============================] - 1s 81us/step - loss: 0.3919 - acc: 0.8382\n",
      "Epoch 42/100\n",
      "8000/8000 [==============================] - 1s 81us/step - loss: 0.3903 - acc: 0.8376\n",
      "Epoch 43/100\n",
      "8000/8000 [==============================] - 1s 81us/step - loss: 0.3888 - acc: 0.8379\n",
      "Epoch 44/100\n",
      "8000/8000 [==============================] - 1s 81us/step - loss: 0.3853 - acc: 0.8407\n",
      "Epoch 45/100\n",
      "8000/8000 [==============================] - 1s 80us/step - loss: 0.3821 - acc: 0.8406\n",
      "Epoch 46/100\n",
      "8000/8000 [==============================] - 1s 82us/step - loss: 0.3797 - acc: 0.8410\n",
      "Epoch 47/100\n",
      "8000/8000 [==============================] - 1s 81us/step - loss: 0.3776 - acc: 0.8419\n",
      "Epoch 48/100\n",
      "8000/8000 [==============================] - 1s 82us/step - loss: 0.3757 - acc: 0.8416\n",
      "Epoch 49/100\n",
      "8000/8000 [==============================] - 1s 87us/step - loss: 0.3739 - acc: 0.8421\n",
      "Epoch 50/100\n",
      "8000/8000 [==============================] - 1s 96us/step - loss: 0.3732 - acc: 0.8411\n",
      "Epoch 51/100\n",
      "8000/8000 [==============================] - 1s 81us/step - loss: 0.3724 - acc: 0.8406\n",
      "Epoch 52/100\n",
      "8000/8000 [==============================] - 1s 83us/step - loss: 0.3721 - acc: 0.8420\n",
      "Epoch 53/100\n",
      "8000/8000 [==============================] - 1s 81us/step - loss: 0.3715 - acc: 0.8436\n",
      "Epoch 54/100\n",
      "8000/8000 [==============================] - 1s 82us/step - loss: 0.3715 - acc: 0.8414\n",
      "Epoch 55/100\n",
      "8000/8000 [==============================] - 1s 84us/step - loss: 0.3712 - acc: 0.8421\n",
      "Epoch 56/100\n",
      "8000/8000 [==============================] - 1s 81us/step - loss: 0.3701 - acc: 0.8409\n",
      "Epoch 57/100\n",
      "8000/8000 [==============================] - 1s 82us/step - loss: 0.3700 - acc: 0.8449\n",
      "Epoch 58/100\n",
      "8000/8000 [==============================] - 1s 80us/step - loss: 0.3698 - acc: 0.8430\n",
      "Epoch 59/100\n",
      "8000/8000 [==============================] - 1s 82us/step - loss: 0.3694 - acc: 0.8427\n",
      "Epoch 60/100\n",
      "8000/8000 [==============================] - 1s 82us/step - loss: 0.3692 - acc: 0.8437\n",
      "Epoch 61/100\n",
      "8000/8000 [==============================] - 1s 81us/step - loss: 0.3691 - acc: 0.8442\n",
      "Epoch 62/100\n",
      "8000/8000 [==============================] - 1s 82us/step - loss: 0.3688 - acc: 0.8412\n",
      "Epoch 63/100\n",
      "8000/8000 [==============================] - 1s 81us/step - loss: 0.3687 - acc: 0.8429\n",
      "Epoch 64/100\n",
      "8000/8000 [==============================] - 1s 81us/step - loss: 0.3676 - acc: 0.8401\n",
      "Epoch 65/100\n",
      "8000/8000 [==============================] - 1s 88us/step - loss: 0.3683 - acc: 0.8419\n",
      "Epoch 66/100\n",
      "8000/8000 [==============================] - 1s 89us/step - loss: 0.3688 - acc: 0.8425\n",
      "Epoch 67/100\n",
      "8000/8000 [==============================] - 1s 85us/step - loss: 0.3678 - acc: 0.8429\n",
      "Epoch 68/100\n",
      "8000/8000 [==============================] - 1s 84us/step - loss: 0.3680 - acc: 0.8409\n",
      "Epoch 69/100\n",
      "8000/8000 [==============================] - 1s 81us/step - loss: 0.3674 - acc: 0.8432\n",
      "Epoch 70/100\n",
      "8000/8000 [==============================] - 1s 83us/step - loss: 0.3675 - acc: 0.8427\n",
      "Epoch 71/100\n",
      "8000/8000 [==============================] - 1s 84us/step - loss: 0.3668 - acc: 0.8422\n",
      "Epoch 72/100\n",
      "8000/8000 [==============================] - 1s 83us/step - loss: 0.3674 - acc: 0.8410\n",
      "Epoch 73/100\n",
      "8000/8000 [==============================] - 1s 81us/step - loss: 0.3668 - acc: 0.8431\n",
      "Epoch 74/100\n",
      "8000/8000 [==============================] - 1s 82us/step - loss: 0.3667 - acc: 0.8451\n",
      "Epoch 75/100\n",
      "8000/8000 [==============================] - 1s 84us/step - loss: 0.3671 - acc: 0.8436\n",
      "Epoch 76/100\n",
      "8000/8000 [==============================] - 1s 83us/step - loss: 0.3666 - acc: 0.8444\n",
      "Epoch 77/100\n",
      "8000/8000 [==============================] - 1s 83us/step - loss: 0.3663 - acc: 0.8412\n",
      "Epoch 78/100\n",
      "8000/8000 [==============================] - 1s 83us/step - loss: 0.3667 - acc: 0.8440\n",
      "Epoch 79/100\n",
      "8000/8000 [==============================] - 1s 86us/step - loss: 0.3669 - acc: 0.8426\n",
      "Epoch 80/100\n",
      "8000/8000 [==============================] - 1s 82us/step - loss: 0.3666 - acc: 0.8447\n",
      "Epoch 81/100\n",
      "8000/8000 [==============================] - 1s 83us/step - loss: 0.3666 - acc: 0.8425\n",
      "Epoch 82/100\n",
      "8000/8000 [==============================] - 1s 83us/step - loss: 0.3665 - acc: 0.8432\n",
      "Epoch 83/100\n"
     ]
    },
    {
     "name": "stdout",
     "output_type": "stream",
     "text": [
      "8000/8000 [==============================] - 1s 81us/step - loss: 0.3660 - acc: 0.8434\n",
      "Epoch 84/100\n",
      "8000/8000 [==============================] - 1s 79us/step - loss: 0.3660 - acc: 0.8427\n",
      "Epoch 85/100\n",
      "8000/8000 [==============================] - 1s 79us/step - loss: 0.3657 - acc: 0.8452\n",
      "Epoch 86/100\n",
      "8000/8000 [==============================] - 1s 80us/step - loss: 0.3656 - acc: 0.8444\n",
      "Epoch 87/100\n",
      "8000/8000 [==============================] - 1s 80us/step - loss: 0.3668 - acc: 0.8442\n",
      "Epoch 88/100\n",
      "8000/8000 [==============================] - 1s 78us/step - loss: 0.3663 - acc: 0.8452\n",
      "Epoch 89/100\n",
      "8000/8000 [==============================] - 1s 79us/step - loss: 0.3654 - acc: 0.8457\n",
      "Epoch 90/100\n",
      "8000/8000 [==============================] - 1s 81us/step - loss: 0.3660 - acc: 0.8461\n",
      "Epoch 91/100\n",
      "8000/8000 [==============================] - 1s 79us/step - loss: 0.3660 - acc: 0.8440\n",
      "Epoch 92/100\n",
      "8000/8000 [==============================] - 1s 79us/step - loss: 0.3663 - acc: 0.8436\n",
      "Epoch 93/100\n",
      "8000/8000 [==============================] - 1s 81us/step - loss: 0.3654 - acc: 0.8434\n",
      "Epoch 94/100\n",
      "8000/8000 [==============================] - 1s 80us/step - loss: 0.3653 - acc: 0.8469\n",
      "Epoch 95/100\n",
      "8000/8000 [==============================] - 1s 79us/step - loss: 0.3651 - acc: 0.8475\n",
      "Epoch 96/100\n",
      "8000/8000 [==============================] - 1s 88us/step - loss: 0.3663 - acc: 0.8447\n",
      "Epoch 97/100\n",
      "8000/8000 [==============================] - 1s 87us/step - loss: 0.3656 - acc: 0.8447\n",
      "Epoch 98/100\n",
      "8000/8000 [==============================] - 1s 80us/step - loss: 0.3658 - acc: 0.8442\n",
      "Epoch 99/100\n",
      "8000/8000 [==============================] - 1s 81us/step - loss: 0.3660 - acc: 0.8445\n",
      "Epoch 100/100\n",
      "8000/8000 [==============================] - 1s 80us/step - loss: 0.3651 - acc: 0.8447\n"
     ]
    },
    {
     "data": {
      "text/plain": [
       "<keras.callbacks.History at 0x1a30a17dd8>"
      ]
     },
     "execution_count": 16,
     "metadata": {},
     "output_type": "execute_result"
    }
   ],
   "source": [
    "# Fitting the ANN to the Training set\n",
    "classifier.fit(X_train, y_train, batch_size = 10, nb_epoch = 100)"
   ]
  },
  {
   "cell_type": "code",
   "execution_count": 17,
   "metadata": {},
   "outputs": [],
   "source": [
    "# Part 3 - Making the predictions and evaluating the model\n",
    "\n",
    "# Predicting the Test set results\n",
    "y_pred = classifier.predict(X_test)\n",
    "y_pred = (y_pred > 0.5)"
   ]
  },
  {
   "cell_type": "code",
   "execution_count": 18,
   "metadata": {},
   "outputs": [],
   "source": [
    "# Making the Confusion Matrix\n",
    "from sklearn.metrics import confusion_matrix\n",
    "cm = confusion_matrix(y_test, y_pred)"
   ]
  },
  {
   "cell_type": "code",
   "execution_count": 19,
   "metadata": {},
   "outputs": [
    {
     "data": {
      "text/plain": [
       "array([[1502,   93],\n",
       "       [ 229,  176]])"
      ]
     },
     "execution_count": 19,
     "metadata": {},
     "output_type": "execute_result"
    }
   ],
   "source": [
    "cm"
   ]
  },
  {
   "cell_type": "code",
   "execution_count": null,
   "metadata": {},
   "outputs": [],
   "source": []
  }
 ],
 "metadata": {
  "kernelspec": {
   "display_name": "Python 3",
   "language": "python",
   "name": "python3"
  },
  "language_info": {
   "codemirror_mode": {
    "name": "ipython",
    "version": 3
   },
   "file_extension": ".py",
   "mimetype": "text/x-python",
   "name": "python",
   "nbconvert_exporter": "python",
   "pygments_lexer": "ipython3",
   "version": "3.7.0"
  }
 },
 "nbformat": 4,
 "nbformat_minor": 2
}
